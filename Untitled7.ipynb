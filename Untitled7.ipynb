{
  "nbformat": 4,
  "nbformat_minor": 0,
  "metadata": {
    "colab": {
      "name": "Untitled7.ipynb",
      "provenance": [],
      "authorship_tag": "ABX9TyMi/GOkm3oOcP62ClhCcLX7",
      "include_colab_link": true
    },
    "kernelspec": {
      "name": "python3",
      "display_name": "Python 3"
    }
  },
  "cells": [
    {
      "cell_type": "markdown",
      "metadata": {
        "id": "view-in-github",
        "colab_type": "text"
      },
      "source": [
        "<a href=\"https://colab.research.google.com/github/gourab-chakraborty/Code/blob/master/Untitled7.ipynb\" target=\"_parent\"><img src=\"https://colab.research.google.com/assets/colab-badge.svg\" alt=\"Open In Colab\"/></a>"
      ]
    },
    {
      "cell_type": "markdown",
      "metadata": {
        "id": "d50KrJJC0KUR"
      },
      "source": [
        "Import Libraries"
      ]
    },
    {
      "cell_type": "code",
      "metadata": {
        "id": "SNU4_nix0ROZ"
      },
      "source": [
        "import pandas as pd\n",
        "import numpy as np\n",
        "from matplotlib import pyplot as plt\n",
        "from sklearn.model_selection import train_test_split\n",
        "from sklearn.linear_model import LinearRegression\n",
        "import pickle"
      ],
      "execution_count": 1,
      "outputs": []
    },
    {
      "cell_type": "markdown",
      "metadata": {
        "id": "3oOpPDQ30SOR"
      },
      "source": [
        "Import Dataset"
      ]
    },
    {
      "cell_type": "code",
      "metadata": {
        "id": "oUqEPJ8J0UtZ"
      },
      "source": [
        "dataset=pd.read_csv('House_Price.csv')"
      ],
      "execution_count": 2,
      "outputs": []
    },
    {
      "cell_type": "markdown",
      "metadata": {
        "id": "3G1XTeuT0WfB"
      },
      "source": [
        "Split Training and Test set"
      ]
    },
    {
      "cell_type": "code",
      "metadata": {
        "id": "E8K2sDul0eax"
      },
      "source": [
        "x=dataset.iloc[:,:-1].values\n",
        "y=dataset.iloc[:,-1].values\n",
        "\n",
        "x_train,x_test,y_train,y_test = train_test_split(x,y,test_size=.2,random_state=0)"
      ],
      "execution_count": 3,
      "outputs": []
    },
    {
      "cell_type": "markdown",
      "metadata": {
        "id": "myrlxR5p0fCy"
      },
      "source": [
        "Build the Model"
      ]
    },
    {
      "cell_type": "code",
      "metadata": {
        "id": "UqGHS8or05Z6"
      },
      "source": [
        "regressor=LinearRegression()\n",
        "regressor.fit(x_train,y_train)\n",
        "\n",
        "plt.scatter(x_train,y_train,color='red') # actual traiing data \n",
        "plt.plot(x_train,regressor.predict(x_train),color='blue') # predicted price data based on training data \n",
        "plt.title('Training set')\n",
        "plt.xlabel('Sq. Ft.')\n",
        "plt.ylabel('Price')\n",
        "plt.show()"
      ],
      "execution_count": null,
      "outputs": []
    },
    {
      "cell_type": "markdown",
      "metadata": {
        "id": "Ve69OvCN07YB"
      },
      "source": [
        "Test the Model"
      ]
    },
    {
      "cell_type": "code",
      "metadata": {
        "id": "lR8ctnPc09Gq"
      },
      "source": [
        "plt.scatter(x_test,y_test,color='red') # actual test data \n",
        "plt.plot(x_train,regressor.predict(x_train),color='blue') # predicted data based on training data \n",
        "plt.title('Test set')\n",
        "plt.xlabel('Sq. Ft.')\n",
        "plt.ylabel('Price')\n",
        "plt.show()\n"
      ],
      "execution_count": null,
      "outputs": []
    },
    {
      "cell_type": "markdown",
      "metadata": {
        "id": "4t7m4-882i-R"
      },
      "source": [
        "Prdict price of any random sq. ft."
      ]
    },
    {
      "cell_type": "code",
      "metadata": {
        "id": "MfP9Uhki2olJ"
      },
      "source": [
        "print(regressor.predict([[2000]]))"
      ],
      "execution_count": null,
      "outputs": []
    },
    {
      "cell_type": "markdown",
      "metadata": {
        "id": "wuCVOG2o0-fb"
      },
      "source": [
        "Print the Score"
      ]
    },
    {
      "cell_type": "code",
      "metadata": {
        "id": "1b7Wi6du2fkh"
      },
      "source": [
        "print(regressor.score(x_test,y_test))"
      ],
      "execution_count": null,
      "outputs": []
    }
  ]
}