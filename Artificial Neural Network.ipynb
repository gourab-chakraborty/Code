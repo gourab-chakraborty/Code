{
  "nbformat": 4,
  "nbformat_minor": 0,
  "metadata": {
    "colab": {
      "name": "Untitled2.ipynb",
      "provenance": [],
      "authorship_tag": "ABX9TyPxCiRw6zBswJVN9XucnQzu",
      "include_colab_link": true
    },
    "kernelspec": {
      "name": "python3",
      "display_name": "Python 3"
    }
  },
  "cells": [
    {
      "cell_type": "markdown",
      "metadata": {
        "id": "view-in-github",
        "colab_type": "text"
      },
      "source": [
        "<a href=\"https://colab.research.google.com/github/gourab-chakraborty/Code/blob/master/Artificial%20Neural%20Network.ipynb\" target=\"_parent\"><img src=\"https://colab.research.google.com/assets/colab-badge.svg\" alt=\"Open In Colab\"/></a>"
      ]
    },
    {
      "cell_type": "markdown",
      "metadata": {
        "id": "93maftnQtkcN",
        "colab_type": "text"
      },
      "source": [
        "Part 1 Import Libraries\n"
      ]
    },
    {
      "cell_type": "code",
      "metadata": {
        "id": "NK4leabKtmiM",
        "colab_type": "code",
        "colab": {}
      },
      "source": [
        "import pandas as pd\n",
        "import matplotlib.pyplot as plt\n",
        "import tensorflow as tf\n",
        "import sklearn\n",
        "import numpy as np"
      ],
      "execution_count": 69,
      "outputs": []
    },
    {
      "cell_type": "code",
      "metadata": {
        "id": "KISKlUOQyEsd",
        "colab_type": "code",
        "colab": {
          "base_uri": "https://localhost:8080/",
          "height": 34
        },
        "outputId": "a0457a34-1b1a-4929-9572-8628fb744d9c"
      },
      "source": [
        "print(tf.__version__)"
      ],
      "execution_count": 70,
      "outputs": [
        {
          "output_type": "stream",
          "text": [
            "2.3.0\n"
          ],
          "name": "stdout"
        }
      ]
    },
    {
      "cell_type": "markdown",
      "metadata": {
        "id": "FmDoJmvquaVX",
        "colab_type": "text"
      },
      "source": [
        "Part 2Import Dataset"
      ]
    },
    {
      "cell_type": "code",
      "metadata": {
        "id": "HcgHuR44u-UZ",
        "colab_type": "code",
        "colab": {}
      },
      "source": [
        "dataset = pd.read_csv('/content/Churn_Modelling.csv')"
      ],
      "execution_count": 71,
      "outputs": []
    },
    {
      "cell_type": "code",
      "metadata": {
        "id": "0IHESo2_z0fk",
        "colab_type": "code",
        "colab": {
          "base_uri": "https://localhost:8080/",
          "height": 255
        },
        "outputId": "8d22c1dd-7f72-4695-b7fb-3ce5436dd320"
      },
      "source": [
        "print(dataset)"
      ],
      "execution_count": 72,
      "outputs": [
        {
          "output_type": "stream",
          "text": [
            "      RowNumber  CustomerId    Surname  ...  IsActiveMember EstimatedSalary Exited\n",
            "0             1    15634602   Hargrave  ...               1       101348.88      1\n",
            "1             2    15647311       Hill  ...               1       112542.58      0\n",
            "2             3    15619304       Onio  ...               0       113931.57      1\n",
            "3             4    15701354       Boni  ...               0        93826.63      0\n",
            "4             5    15737888   Mitchell  ...               1        79084.10      0\n",
            "...         ...         ...        ...  ...             ...             ...    ...\n",
            "9995       9996    15606229   Obijiaku  ...               0        96270.64      0\n",
            "9996       9997    15569892  Johnstone  ...               1       101699.77      0\n",
            "9997       9998    15584532        Liu  ...               1        42085.58      1\n",
            "9998       9999    15682355  Sabbatini  ...               0        92888.52      1\n",
            "9999      10000    15628319     Walker  ...               0        38190.78      0\n",
            "\n",
            "[10000 rows x 14 columns]\n"
          ],
          "name": "stdout"
        }
      ]
    },
    {
      "cell_type": "markdown",
      "metadata": {
        "id": "DI5CchA2vsGs",
        "colab_type": "text"
      },
      "source": [
        "Part 3 Data Preprocessing"
      ]
    },
    {
      "cell_type": "markdown",
      "metadata": {
        "id": "hlX6b5h71jpg",
        "colab_type": "text"
      },
      "source": [
        ""
      ]
    },
    {
      "cell_type": "code",
      "metadata": {
        "id": "31l8l-tMvuaW",
        "colab_type": "code",
        "colab": {
          "base_uri": "https://localhost:8080/",
          "height": 153
        },
        "outputId": "3e5ccb0b-c2e9-424a-e4d2-1a2b71d4b36c"
      },
      "source": [
        "x=dataset.iloc[:, 3:-1].values\n",
        "y=dataset.iloc[:, -1].values\n",
        "print(x)\n",
        "print(y)"
      ],
      "execution_count": 73,
      "outputs": [
        {
          "output_type": "stream",
          "text": [
            "[[619 'France' 'Female' ... 1 1 101348.88]\n",
            " [608 'Spain' 'Female' ... 0 1 112542.58]\n",
            " [502 'France' 'Female' ... 1 0 113931.57]\n",
            " ...\n",
            " [709 'France' 'Female' ... 0 1 42085.58]\n",
            " [772 'Germany' 'Male' ... 1 0 92888.52]\n",
            " [792 'France' 'Female' ... 1 0 38190.78]]\n",
            "[1 0 1 ... 1 1 0]\n"
          ],
          "name": "stdout"
        }
      ]
    },
    {
      "cell_type": "markdown",
      "metadata": {
        "id": "YZxQE1GLwwnm",
        "colab_type": "text"
      },
      "source": [
        "Encod categorial data"
      ]
    },
    {
      "cell_type": "markdown",
      "metadata": {
        "id": "8QToWh6ox4FY",
        "colab_type": "text"
      },
      "source": [
        "Felmale = 1, Male=0"
      ]
    },
    {
      "cell_type": "code",
      "metadata": {
        "id": "YfiTQ95Mw180",
        "colab_type": "code",
        "colab": {}
      },
      "source": [
        "from sklearn.preprocessing import LabelEncoder\n",
        "le = LabelEncoder()\n",
        "x[:, 2] = le.fit_transform(x[:, 2])\n"
      ],
      "execution_count": 74,
      "outputs": []
    },
    {
      "cell_type": "code",
      "metadata": {
        "id": "FLYqXn31yAOk",
        "colab_type": "code",
        "colab": {}
      },
      "source": [
        "print(x[1])"
      ],
      "execution_count": null,
      "outputs": []
    },
    {
      "cell_type": "markdown",
      "metadata": {
        "id": "ngspOw5kyN01",
        "colab_type": "text"
      },
      "source": [
        "Hot encoding on Geography"
      ]
    },
    {
      "cell_type": "code",
      "metadata": {
        "id": "uCUKU0dzykr0",
        "colab_type": "code",
        "colab": {}
      },
      "source": [
        "from sklearn.compose import ColumnTransformer\n",
        "from sklearn.preprocessing import OneHotEncoder\n",
        "ct = ColumnTransformer(transformers=[('encoder', OneHotEncoder(), [1])],remainder='passthrough')\n",
        "x=np.array(ct.fit_transform(x))"
      ],
      "execution_count": 76,
      "outputs": []
    },
    {
      "cell_type": "code",
      "metadata": {
        "id": "hGjhMf8jzquX",
        "colab_type": "code",
        "colab": {}
      },
      "source": [
        "print(x)"
      ],
      "execution_count": null,
      "outputs": []
    },
    {
      "cell_type": "markdown",
      "metadata": {
        "id": "co46X1ECz79V",
        "colab_type": "text"
      },
      "source": [
        "Split training and test dataset"
      ]
    },
    {
      "cell_type": "code",
      "metadata": {
        "id": "XR86moN80DGd",
        "colab_type": "code",
        "colab": {}
      },
      "source": [
        "from sklearn.model_selection import train_test_split\n",
        "x_train, x_test, y_train, y_test=train_test_split(x,y,test_size=0.2, random_state=0)"
      ],
      "execution_count": 78,
      "outputs": []
    },
    {
      "cell_type": "markdown",
      "metadata": {
        "id": "yG6_Y01U08zV",
        "colab_type": "text"
      },
      "source": [
        "Feature Scaling"
      ]
    },
    {
      "cell_type": "code",
      "metadata": {
        "id": "Fx-hiY4k0_JF",
        "colab_type": "code",
        "colab": {}
      },
      "source": [
        "from sklearn.preprocessing import StandardScaler\n",
        "sc = StandardScaler()\n",
        "x_train=sc.fit_transform(x_train)\n",
        "x_test=sc.fit_transform(x_test)"
      ],
      "execution_count": 79,
      "outputs": []
    },
    {
      "cell_type": "markdown",
      "metadata": {
        "id": "CTJZ4oMI1mcd",
        "colab_type": "text"
      },
      "source": [
        "Part 4 Building the Artifical Neural Network"
      ]
    },
    {
      "cell_type": "markdown",
      "metadata": {
        "id": "72um7WgU2NXl",
        "colab_type": "text"
      },
      "source": [
        "Initialize ANN"
      ]
    },
    {
      "cell_type": "code",
      "metadata": {
        "id": "4ZY6N81G1qy9",
        "colab_type": "code",
        "colab": {}
      },
      "source": [
        "from tensorflow.keras.models import Sequential\n",
        "ann = Sequential()"
      ],
      "execution_count": 80,
      "outputs": []
    },
    {
      "cell_type": "markdown",
      "metadata": {
        "id": "kfHlxAOp2Pr9",
        "colab_type": "text"
      },
      "source": [
        "Add input layer and first hidden layer"
      ]
    },
    {
      "cell_type": "code",
      "metadata": {
        "id": "jP6Zyd2H2U8c",
        "colab_type": "code",
        "colab": {}
      },
      "source": [
        "from tensorflow.keras.layers import Dense\n",
        "ann.add(Dense(units=6,activation='relu'))"
      ],
      "execution_count": 81,
      "outputs": []
    },
    {
      "cell_type": "markdown",
      "metadata": {
        "id": "wRjOGipj3Fif",
        "colab_type": "text"
      },
      "source": [
        "Add second hidden layer"
      ]
    },
    {
      "cell_type": "code",
      "metadata": {
        "id": "FhwZ84Lg3TP9",
        "colab_type": "code",
        "colab": {}
      },
      "source": [
        "ann.add(Dense(units=6,activation='relu'))"
      ],
      "execution_count": 82,
      "outputs": []
    },
    {
      "cell_type": "markdown",
      "metadata": {
        "id": "_MVgvfrv3cSu",
        "colab_type": "text"
      },
      "source": [
        "Add Output layer"
      ]
    },
    {
      "cell_type": "code",
      "metadata": {
        "id": "5CBM8A5V3xVW",
        "colab_type": "code",
        "colab": {}
      },
      "source": [
        "ann.add(Dense(units=1,activation='sigmoid'))"
      ],
      "execution_count": 84,
      "outputs": []
    },
    {
      "cell_type": "markdown",
      "metadata": {
        "id": "BfSWA3Ed33vG",
        "colab_type": "text"
      },
      "source": [
        "Part 5 Training the model"
      ]
    },
    {
      "cell_type": "markdown",
      "metadata": {
        "id": "yfZCNIGl4GVG",
        "colab_type": "text"
      },
      "source": [
        "Compiling the ANN"
      ]
    },
    {
      "cell_type": "code",
      "metadata": {
        "id": "tF73ahRD38rG",
        "colab_type": "code",
        "colab": {}
      },
      "source": [
        "ann.compile(optimizer='adam', loss= 'binary_crossentropy', metrics=['accuracy'])"
      ],
      "execution_count": 85,
      "outputs": []
    },
    {
      "cell_type": "markdown",
      "metadata": {
        "id": "-5JDtorc3fie",
        "colab_type": "text"
      },
      "source": [
        "Training the ANN"
      ]
    },
    {
      "cell_type": "code",
      "metadata": {
        "id": "0PnTDqM84vHe",
        "colab_type": "code",
        "colab": {
          "base_uri": "https://localhost:8080/",
          "height": 1000
        },
        "outputId": "5c88671f-3465-4372-91ee-3290b51264d6"
      },
      "source": [
        "ann.fit(x_train,y_train,batch_size=32,epochs=100)"
      ],
      "execution_count": 86,
      "outputs": [
        {
          "output_type": "stream",
          "text": [
            "Epoch 1/100\n",
            "250/250 [==============================] - 0s 924us/step - loss: 0.5666 - accuracy: 0.7960\n",
            "Epoch 2/100\n",
            "250/250 [==============================] - 0s 1ms/step - loss: 0.5021 - accuracy: 0.7960\n",
            "Epoch 3/100\n",
            "250/250 [==============================] - 0s 894us/step - loss: 0.4751 - accuracy: 0.7960\n",
            "Epoch 4/100\n",
            "250/250 [==============================] - 0s 894us/step - loss: 0.4593 - accuracy: 0.7960\n",
            "Epoch 5/100\n",
            "250/250 [==============================] - 0s 1000us/step - loss: 0.4508 - accuracy: 0.7960\n",
            "Epoch 6/100\n",
            "250/250 [==============================] - 0s 1ms/step - loss: 0.4437 - accuracy: 0.7960\n",
            "Epoch 7/100\n",
            "250/250 [==============================] - 0s 914us/step - loss: 0.4371 - accuracy: 0.7960\n",
            "Epoch 8/100\n",
            "250/250 [==============================] - 0s 921us/step - loss: 0.4310 - accuracy: 0.7960\n",
            "Epoch 9/100\n",
            "250/250 [==============================] - 0s 1ms/step - loss: 0.4256 - accuracy: 0.7960\n",
            "Epoch 10/100\n",
            "250/250 [==============================] - 0s 918us/step - loss: 0.4203 - accuracy: 0.7960\n",
            "Epoch 11/100\n",
            "250/250 [==============================] - 0s 903us/step - loss: 0.4152 - accuracy: 0.7960\n",
            "Epoch 12/100\n",
            "250/250 [==============================] - 0s 916us/step - loss: 0.4100 - accuracy: 0.7960\n",
            "Epoch 13/100\n",
            "250/250 [==============================] - 0s 948us/step - loss: 0.4050 - accuracy: 0.7960\n",
            "Epoch 14/100\n",
            "250/250 [==============================] - 0s 926us/step - loss: 0.4002 - accuracy: 0.7960\n",
            "Epoch 15/100\n",
            "250/250 [==============================] - 0s 932us/step - loss: 0.3959 - accuracy: 0.7960\n",
            "Epoch 16/100\n",
            "250/250 [==============================] - 0s 1ms/step - loss: 0.3925 - accuracy: 0.7960\n",
            "Epoch 17/100\n",
            "250/250 [==============================] - 0s 990us/step - loss: 0.3892 - accuracy: 0.7960\n",
            "Epoch 18/100\n",
            "250/250 [==============================] - 0s 894us/step - loss: 0.3861 - accuracy: 0.7960\n",
            "Epoch 19/100\n",
            "250/250 [==============================] - 0s 907us/step - loss: 0.3842 - accuracy: 0.8009\n",
            "Epoch 20/100\n",
            "250/250 [==============================] - 0s 960us/step - loss: 0.3822 - accuracy: 0.8285\n",
            "Epoch 21/100\n",
            "250/250 [==============================] - 0s 957us/step - loss: 0.3801 - accuracy: 0.8450\n",
            "Epoch 22/100\n",
            "250/250 [==============================] - 0s 1ms/step - loss: 0.3781 - accuracy: 0.8500\n",
            "Epoch 23/100\n",
            "250/250 [==============================] - 0s 919us/step - loss: 0.3769 - accuracy: 0.8516\n",
            "Epoch 24/100\n",
            "250/250 [==============================] - 0s 924us/step - loss: 0.3754 - accuracy: 0.8533\n",
            "Epoch 25/100\n",
            "250/250 [==============================] - 0s 915us/step - loss: 0.3738 - accuracy: 0.8546\n",
            "Epoch 26/100\n",
            "250/250 [==============================] - 0s 905us/step - loss: 0.3724 - accuracy: 0.8550\n",
            "Epoch 27/100\n",
            "250/250 [==============================] - 0s 869us/step - loss: 0.3710 - accuracy: 0.8571\n",
            "Epoch 28/100\n",
            "250/250 [==============================] - 0s 914us/step - loss: 0.3696 - accuracy: 0.8562\n",
            "Epoch 29/100\n",
            "250/250 [==============================] - 0s 993us/step - loss: 0.3684 - accuracy: 0.8580\n",
            "Epoch 30/100\n",
            "250/250 [==============================] - 0s 951us/step - loss: 0.3672 - accuracy: 0.8568\n",
            "Epoch 31/100\n",
            "250/250 [==============================] - 0s 925us/step - loss: 0.3665 - accuracy: 0.8575\n",
            "Epoch 32/100\n",
            "250/250 [==============================] - 0s 975us/step - loss: 0.3653 - accuracy: 0.8581\n",
            "Epoch 33/100\n",
            "250/250 [==============================] - 0s 928us/step - loss: 0.3644 - accuracy: 0.8572\n",
            "Epoch 34/100\n",
            "250/250 [==============================] - 0s 925us/step - loss: 0.3638 - accuracy: 0.8560\n",
            "Epoch 35/100\n",
            "250/250 [==============================] - 0s 894us/step - loss: 0.3627 - accuracy: 0.8565\n",
            "Epoch 36/100\n",
            "250/250 [==============================] - 0s 930us/step - loss: 0.3618 - accuracy: 0.8575\n",
            "Epoch 37/100\n",
            "250/250 [==============================] - 0s 938us/step - loss: 0.3614 - accuracy: 0.8587\n",
            "Epoch 38/100\n",
            "250/250 [==============================] - 0s 983us/step - loss: 0.3608 - accuracy: 0.8571\n",
            "Epoch 39/100\n",
            "250/250 [==============================] - 0s 1ms/step - loss: 0.3601 - accuracy: 0.8565\n",
            "Epoch 40/100\n",
            "250/250 [==============================] - 0s 943us/step - loss: 0.3593 - accuracy: 0.8574\n",
            "Epoch 41/100\n",
            "250/250 [==============================] - 0s 947us/step - loss: 0.3584 - accuracy: 0.8593\n",
            "Epoch 42/100\n",
            "250/250 [==============================] - 0s 936us/step - loss: 0.3581 - accuracy: 0.8593\n",
            "Epoch 43/100\n",
            "250/250 [==============================] - 0s 953us/step - loss: 0.3579 - accuracy: 0.8579\n",
            "Epoch 44/100\n",
            "250/250 [==============================] - 0s 1ms/step - loss: 0.3571 - accuracy: 0.8586\n",
            "Epoch 45/100\n",
            "250/250 [==============================] - 0s 1ms/step - loss: 0.3565 - accuracy: 0.8589\n",
            "Epoch 46/100\n",
            "250/250 [==============================] - 0s 993us/step - loss: 0.3561 - accuracy: 0.8593\n",
            "Epoch 47/100\n",
            "250/250 [==============================] - 0s 917us/step - loss: 0.3556 - accuracy: 0.8584\n",
            "Epoch 48/100\n",
            "250/250 [==============================] - 0s 1ms/step - loss: 0.3546 - accuracy: 0.8581\n",
            "Epoch 49/100\n",
            "250/250 [==============================] - 0s 1ms/step - loss: 0.3542 - accuracy: 0.8594\n",
            "Epoch 50/100\n",
            "250/250 [==============================] - 0s 923us/step - loss: 0.3536 - accuracy: 0.8596\n",
            "Epoch 51/100\n",
            "250/250 [==============================] - 0s 985us/step - loss: 0.3534 - accuracy: 0.8597\n",
            "Epoch 52/100\n",
            "250/250 [==============================] - 0s 1ms/step - loss: 0.3530 - accuracy: 0.8608\n",
            "Epoch 53/100\n",
            "250/250 [==============================] - 0s 985us/step - loss: 0.3525 - accuracy: 0.8589\n",
            "Epoch 54/100\n",
            "250/250 [==============================] - 0s 938us/step - loss: 0.3526 - accuracy: 0.8586\n",
            "Epoch 55/100\n",
            "250/250 [==============================] - 0s 895us/step - loss: 0.3517 - accuracy: 0.8605\n",
            "Epoch 56/100\n",
            "250/250 [==============================] - 0s 925us/step - loss: 0.3519 - accuracy: 0.8597\n",
            "Epoch 57/100\n",
            "250/250 [==============================] - 0s 933us/step - loss: 0.3512 - accuracy: 0.8594\n",
            "Epoch 58/100\n",
            "250/250 [==============================] - 0s 980us/step - loss: 0.3509 - accuracy: 0.8605\n",
            "Epoch 59/100\n",
            "250/250 [==============================] - 0s 1ms/step - loss: 0.3504 - accuracy: 0.8597\n",
            "Epoch 60/100\n",
            "250/250 [==============================] - 0s 909us/step - loss: 0.3508 - accuracy: 0.8597\n",
            "Epoch 61/100\n",
            "250/250 [==============================] - 0s 1ms/step - loss: 0.3498 - accuracy: 0.8600\n",
            "Epoch 62/100\n",
            "250/250 [==============================] - 0s 923us/step - loss: 0.3499 - accuracy: 0.8616\n",
            "Epoch 63/100\n",
            "250/250 [==============================] - 0s 909us/step - loss: 0.3493 - accuracy: 0.8615\n",
            "Epoch 64/100\n",
            "250/250 [==============================] - 0s 893us/step - loss: 0.3496 - accuracy: 0.8619\n",
            "Epoch 65/100\n",
            "250/250 [==============================] - 0s 913us/step - loss: 0.3492 - accuracy: 0.8606\n",
            "Epoch 66/100\n",
            "250/250 [==============================] - 0s 1ms/step - loss: 0.3486 - accuracy: 0.8614\n",
            "Epoch 67/100\n",
            "250/250 [==============================] - 0s 900us/step - loss: 0.3487 - accuracy: 0.8612\n",
            "Epoch 68/100\n",
            "250/250 [==============================] - 0s 945us/step - loss: 0.3482 - accuracy: 0.8627\n",
            "Epoch 69/100\n",
            "250/250 [==============================] - 0s 883us/step - loss: 0.3476 - accuracy: 0.8626\n",
            "Epoch 70/100\n",
            "250/250 [==============================] - 0s 1ms/step - loss: 0.3477 - accuracy: 0.8625\n",
            "Epoch 71/100\n",
            "250/250 [==============================] - 0s 1ms/step - loss: 0.3478 - accuracy: 0.8620\n",
            "Epoch 72/100\n",
            "250/250 [==============================] - 0s 936us/step - loss: 0.3479 - accuracy: 0.8616\n",
            "Epoch 73/100\n",
            "250/250 [==============================] - 0s 914us/step - loss: 0.3478 - accuracy: 0.8621\n",
            "Epoch 74/100\n",
            "250/250 [==============================] - 0s 943us/step - loss: 0.3470 - accuracy: 0.8624\n",
            "Epoch 75/100\n",
            "250/250 [==============================] - 0s 979us/step - loss: 0.3475 - accuracy: 0.8616\n",
            "Epoch 76/100\n",
            "250/250 [==============================] - 0s 891us/step - loss: 0.3471 - accuracy: 0.8635\n",
            "Epoch 77/100\n",
            "250/250 [==============================] - 0s 913us/step - loss: 0.3464 - accuracy: 0.8631\n",
            "Epoch 78/100\n",
            "250/250 [==============================] - 0s 947us/step - loss: 0.3461 - accuracy: 0.8616\n",
            "Epoch 79/100\n",
            "250/250 [==============================] - 0s 875us/step - loss: 0.3465 - accuracy: 0.8618\n",
            "Epoch 80/100\n",
            "250/250 [==============================] - 0s 890us/step - loss: 0.3467 - accuracy: 0.8620\n",
            "Epoch 81/100\n",
            "250/250 [==============================] - 0s 931us/step - loss: 0.3462 - accuracy: 0.8614\n",
            "Epoch 82/100\n",
            "250/250 [==============================] - 0s 965us/step - loss: 0.3460 - accuracy: 0.8618\n",
            "Epoch 83/100\n",
            "250/250 [==============================] - 0s 921us/step - loss: 0.3459 - accuracy: 0.8619\n",
            "Epoch 84/100\n",
            "250/250 [==============================] - 0s 892us/step - loss: 0.3461 - accuracy: 0.8621\n",
            "Epoch 85/100\n",
            "250/250 [==============================] - 0s 905us/step - loss: 0.3457 - accuracy: 0.8622\n",
            "Epoch 86/100\n",
            "250/250 [==============================] - 0s 885us/step - loss: 0.3453 - accuracy: 0.8622\n",
            "Epoch 87/100\n",
            "250/250 [==============================] - 0s 975us/step - loss: 0.3456 - accuracy: 0.8635\n",
            "Epoch 88/100\n",
            "250/250 [==============================] - 0s 985us/step - loss: 0.3448 - accuracy: 0.8633\n",
            "Epoch 89/100\n",
            "250/250 [==============================] - 0s 863us/step - loss: 0.3454 - accuracy: 0.8624\n",
            "Epoch 90/100\n",
            "250/250 [==============================] - 0s 887us/step - loss: 0.3450 - accuracy: 0.8621\n",
            "Epoch 91/100\n",
            "250/250 [==============================] - 0s 963us/step - loss: 0.3448 - accuracy: 0.8643\n",
            "Epoch 92/100\n",
            "250/250 [==============================] - 0s 901us/step - loss: 0.3444 - accuracy: 0.8626\n",
            "Epoch 93/100\n",
            "250/250 [==============================] - 0s 901us/step - loss: 0.3446 - accuracy: 0.8629\n",
            "Epoch 94/100\n",
            "250/250 [==============================] - 0s 916us/step - loss: 0.3443 - accuracy: 0.8630\n",
            "Epoch 95/100\n",
            "250/250 [==============================] - 0s 949us/step - loss: 0.3444 - accuracy: 0.8630\n",
            "Epoch 96/100\n",
            "250/250 [==============================] - 0s 943us/step - loss: 0.3442 - accuracy: 0.8640\n",
            "Epoch 97/100\n",
            "250/250 [==============================] - 0s 923us/step - loss: 0.3437 - accuracy: 0.8634\n",
            "Epoch 98/100\n",
            "250/250 [==============================] - 0s 895us/step - loss: 0.3442 - accuracy: 0.8618\n",
            "Epoch 99/100\n",
            "250/250 [==============================] - 0s 913us/step - loss: 0.3439 - accuracy: 0.8627\n",
            "Epoch 100/100\n",
            "250/250 [==============================] - 0s 1ms/step - loss: 0.3440 - accuracy: 0.8625\n"
          ],
          "name": "stdout"
        },
        {
          "output_type": "execute_result",
          "data": {
            "text/plain": [
              "<tensorflow.python.keras.callbacks.History at 0x7f89c63127f0>"
            ]
          },
          "metadata": {
            "tags": []
          },
          "execution_count": 86
        }
      ]
    },
    {
      "cell_type": "markdown",
      "metadata": {
        "id": "Peh7cF5z3Hv-",
        "colab_type": "text"
      },
      "source": [
        "Part 6 Predict "
      ]
    },
    {
      "cell_type": "code",
      "metadata": {
        "id": "WR9Onp815nf4",
        "colab_type": "code",
        "colab": {}
      },
      "source": [
        "\n",
        "print(ann.predict(sc.transform([[1,0,0,600,0,40,3,60000,2,1,1,50000]])) > 0.5)"
      ],
      "execution_count": null,
      "outputs": []
    },
    {
      "cell_type": "markdown",
      "metadata": {
        "id": "TMViVIDx8WlJ",
        "colab_type": "text"
      },
      "source": [
        "Preciting test result"
      ]
    },
    {
      "cell_type": "code",
      "metadata": {
        "id": "PC0cM9Rc8ZKn",
        "colab_type": "code",
        "colab": {}
      },
      "source": [
        "y_pred=ann.predict(x_test)\n",
        "y_pred=y_pred>0.5\n",
        "print(np.concatenate((y_pred.reshape(len(y_pred),1),y_test.reshape(len(y_test),1)),1))"
      ],
      "execution_count": null,
      "outputs": []
    },
    {
      "cell_type": "markdown",
      "metadata": {
        "id": "L4j2P0KD9NfX",
        "colab_type": "text"
      },
      "source": [
        "Find Accuracy"
      ]
    },
    {
      "cell_type": "code",
      "metadata": {
        "id": "Mlx1dNEN9Pvf",
        "colab_type": "code",
        "colab": {
          "base_uri": "https://localhost:8080/",
          "height": 68
        },
        "outputId": "57ae1032-9df0-41b1-9068-fb3a15cc3b63"
      },
      "source": [
        "from sklearn.metrics import confusion_matrix, accuracy_score\n",
        "cm=confusion_matrix(y_test,y_pred)\n",
        "print(cm)\n",
        "accuracy_score(y_test,y_pred)"
      ],
      "execution_count": 93,
      "outputs": [
        {
          "output_type": "stream",
          "text": [
            "[[1510   85]\n",
            " [ 195  210]]\n"
          ],
          "name": "stdout"
        },
        {
          "output_type": "execute_result",
          "data": {
            "text/plain": [
              "0.86"
            ]
          },
          "metadata": {
            "tags": []
          },
          "execution_count": 93
        }
      ]
    }
  ]
}