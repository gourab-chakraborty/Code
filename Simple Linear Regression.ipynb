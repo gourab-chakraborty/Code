{
  "nbformat": 4,
  "nbformat_minor": 0,
  "metadata": {
    "colab": {
      "name": "Untitled4.ipynb",
      "provenance": [],
      "include_colab_link": true
    },
    "kernelspec": {
      "name": "python3",
      "display_name": "Python 3"
    }
  },
  "cells": [
    {
      "cell_type": "markdown",
      "metadata": {
        "id": "view-in-github",
        "colab_type": "text"
      },
      "source": [
        "<a href=\"https://colab.research.google.com/github/gourab-chakraborty/Code/blob/master/Simple%20Linear%20Regression.ipynb\" target=\"_parent\"><img src=\"https://colab.research.google.com/assets/colab-badge.svg\" alt=\"Open In Colab\"/></a>"
      ]
    },
    {
      "cell_type": "markdown",
      "metadata": {
        "id": "ltxFtSxylQR7"
      },
      "source": [
        "Import Libraries"
      ]
    },
    {
      "cell_type": "code",
      "metadata": {
        "id": "bZeJxMVtlRub"
      },
      "source": [
        "import pandas as pd\n",
        "import numpy as np\n",
        "from matplotlib import pyplot as plt\n",
        "from sklearn.model_selection import train_test_split\n",
        "from sklearn.linear_model import LinearRegression"
      ],
      "execution_count": 1,
      "outputs": []
    },
    {
      "cell_type": "markdown",
      "metadata": {
        "id": "qhwtZzb0lViD"
      },
      "source": [
        "Import dataset"
      ]
    },
    {
      "cell_type": "code",
      "metadata": {
        "id": "zZjTGWEelXkC"
      },
      "source": [
        "dataset=pd.read_csv('House_Price.csv')\n",
        "x=dataset.iloc[:,:-1].values\n",
        "y=dataset.iloc[:,-1].values"
      ],
      "execution_count": 2,
      "outputs": []
    },
    {
      "cell_type": "code",
      "metadata": {
        "id": "tnh6IykPld5C"
      },
      "source": [
        "print(dataset)\n",
        "print(x)\n",
        "print(y)"
      ],
      "execution_count": null,
      "outputs": []
    },
    {
      "cell_type": "markdown",
      "metadata": {
        "id": "nIpAyQDfln26"
      },
      "source": [
        "Building the model"
      ]
    },
    {
      "cell_type": "code",
      "metadata": {
        "id": "C1aBh4xflpvt",
        "outputId": "fc8aa2de-3d5c-474c-9394-9605598d9969",
        "colab": {
          "base_uri": "https://localhost:8080/",
          "height": 34
        }
      },
      "source": [
        "x_train,x_test,y_train,y_test = train_test_split(x,y,test_size=.2,random_state=0)\n",
        "regressor=LinearRegression()\n",
        "regressor.fit(x_train,y_train)"
      ],
      "execution_count": 4,
      "outputs": [
        {
          "output_type": "execute_result",
          "data": {
            "text/plain": [
              "LinearRegression(copy_X=True, fit_intercept=True, n_jobs=None, normalize=False)"
            ]
          },
          "metadata": {
            "tags": []
          },
          "execution_count": 4
        }
      ]
    },
    {
      "cell_type": "markdown",
      "metadata": {
        "id": "YDXMhSZylybC"
      },
      "source": [
        "Plot training dataset"
      ]
    },
    {
      "cell_type": "code",
      "metadata": {
        "id": "MHrNIEY-l03D",
        "outputId": "571012e8-88ec-4416-ec84-4cc5e58a2f30",
        "colab": {
          "base_uri": "https://localhost:8080/",
          "height": 295
        }
      },
      "source": [
        "plt.scatter(x_train,y_train,color='red') # actual traiing data \n",
        "plt.plot(x_train,regressor.predict(x_train),color='blue') # predicted price based on training data \n",
        "plt.title('Training set')\n",
        "plt.xlabel('Sq. Ft.')\n",
        "plt.ylabel('Price')\n",
        "plt.show()\n"
      ],
      "execution_count": 7,
      "outputs": [
        {
          "output_type": "display_data",
          "data": {
            "image/png": "[encoded data removed]",
            "text/plain": [
              "<Figure size 432x288 with 1 Axes>"
            ]
          },
          "metadata": {
            "tags": [],
            "needs_background": "light"
          }
        }
      ]
    },
    {
      "cell_type": "markdown",
      "metadata": {
        "id": "2N8cI6miXkFA"
      },
      "source": [
        "Plot test dataset"
      ]
    },
    {
      "cell_type": "code",
      "metadata": {
        "id": "PzRH337PXlw1",
        "outputId": "228381ac-c1a7-4261-c4c8-a920ccc01d0d",
        "colab": {
          "base_uri": "https://localhost:8080/",
          "height": 295
        }
      },
      "source": [
        "plt.scatter(x_test,y_test,color='red') # actual traiing data \n",
        "plt.plot(x_test,regressor.predict(x_test),color='blue') # predicted price based on training data \n",
        "plt.title('Test set')\n",
        "plt.xlabel('Sq. Ft.')\n",
        "plt.ylabel('Price')\n",
        "plt.show()\n"
      ],
      "execution_count": 9,
      "outputs": [
        {
          "output_type": "display_data",
          "data": {
            "image/png": "[encoded data removed]",
            "text/plain": [
              "<Figure size 432x288 with 1 Axes>"
            ]
          },
          "metadata": {
            "tags": [],
            "needs_background": "light"
          }
        }
      ]
    },
    {
      "cell_type": "markdown",
      "metadata": {
        "id": "R8jMeT0pX30c"
      },
      "source": [
        "Predit house price"
      ]
    },
    {
      "cell_type": "code",
      "metadata": {
        "id": "Uc2Jycf7X6F9",
        "outputId": "ca80b06c-f60f-42f2-ad00-09ce56a706ed",
        "colab": {
          "base_uri": "https://localhost:8080/",
          "height": 34
        }
      },
      "source": [
        "regressor.predict([[1350]])"
      ],
      "execution_count": 14,
      "outputs": [
        {
          "output_type": "execute_result",
          "data": {
            "text/plain": [
              "array([196.33725925])"
            ]
          },
          "metadata": {
            "tags": []
          },
          "execution_count": 14
        }
      ]
    }
  ]
}